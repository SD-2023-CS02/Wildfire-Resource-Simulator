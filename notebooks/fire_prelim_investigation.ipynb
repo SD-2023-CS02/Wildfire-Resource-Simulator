{
 "cells": [
  {
   "cell_type": "code",
   "execution_count": 1,
   "metadata": {},
   "outputs": [
    {
     "data": {
      "text/html": [
       "<div>\n",
       "<style scoped>\n",
       "    .dataframe tbody tr th:only-of-type {\n",
       "        vertical-align: middle;\n",
       "    }\n",
       "\n",
       "    .dataframe tbody tr th {\n",
       "        vertical-align: top;\n",
       "    }\n",
       "\n",
       "    .dataframe thead th {\n",
       "        text-align: right;\n",
       "    }\n",
       "</style>\n",
       "<table border=\"1\" class=\"dataframe\">\n",
       "  <thead>\n",
       "    <tr style=\"text-align: right;\">\n",
       "      <th></th>\n",
       "      <th>IncidentName</th>\n",
       "      <th>UniqueFireIdentifier</th>\n",
       "      <th>FireDiscoveryDateTime</th>\n",
       "      <th>InitialResponseAcres</th>\n",
       "      <th>CreatedOnDateTime_dt</th>\n",
       "      <th>GACC</th>\n",
       "      <th>ContainmentDateTime</th>\n",
       "      <th>ControlDateTime</th>\n",
       "      <th>FireOutDateTime</th>\n",
       "      <th>DiscoveryAcres</th>\n",
       "      <th>FinalAcres</th>\n",
       "      <th>IncidentSize</th>\n",
       "      <th>InitialLatitude</th>\n",
       "      <th>InitialLongitude</th>\n",
       "      <th>Latitude</th>\n",
       "      <th>Longitude</th>\n",
       "    </tr>\n",
       "  </thead>\n",
       "  <tbody>\n",
       "    <tr>\n",
       "      <th>0</th>\n",
       "      <td>SCHWARTZ</td>\n",
       "      <td>2003-WYCMX-200237</td>\n",
       "      <td>2003-01-01 07:00:00</td>\n",
       "      <td>NaN</td>\n",
       "      <td>2020-07-04 16:03:32</td>\n",
       "      <td>RMCC</td>\n",
       "      <td>NaN</td>\n",
       "      <td>NaN</td>\n",
       "      <td>NaN</td>\n",
       "      <td>NaN</td>\n",
       "      <td>NaN</td>\n",
       "      <td>NaN</td>\n",
       "      <td>NaN</td>\n",
       "      <td>NaN</td>\n",
       "      <td>44.603333</td>\n",
       "      <td>-105.563056</td>\n",
       "    </tr>\n",
       "    <tr>\n",
       "      <th>1</th>\n",
       "      <td>MENTONE</td>\n",
       "      <td>2004-CABDU-006784</td>\n",
       "      <td>2004-07-06 01:04:00</td>\n",
       "      <td>NaN</td>\n",
       "      <td>2020-10-13 01:01:00</td>\n",
       "      <td>OSCC</td>\n",
       "      <td>NaN</td>\n",
       "      <td>NaN</td>\n",
       "      <td>NaN</td>\n",
       "      <td>NaN</td>\n",
       "      <td>NaN</td>\n",
       "      <td>NaN</td>\n",
       "      <td>NaN</td>\n",
       "      <td>NaN</td>\n",
       "      <td>34.733889</td>\n",
       "      <td>-117.076667</td>\n",
       "    </tr>\n",
       "    <tr>\n",
       "      <th>2</th>\n",
       "      <td>NIFC RAMP SUPPORT</td>\n",
       "      <td>2008-IDGBK-000002</td>\n",
       "      <td>2008-07-22 15:10:00</td>\n",
       "      <td>NaN</td>\n",
       "      <td>2019-08-05 14:33:55</td>\n",
       "      <td>GBCC</td>\n",
       "      <td>NaN</td>\n",
       "      <td>NaN</td>\n",
       "      <td>NaN</td>\n",
       "      <td>NaN</td>\n",
       "      <td>NaN</td>\n",
       "      <td>NaN</td>\n",
       "      <td>NaN</td>\n",
       "      <td>NaN</td>\n",
       "      <td>43.666667</td>\n",
       "      <td>-116.216667</td>\n",
       "    </tr>\n",
       "    <tr>\n",
       "      <th>3</th>\n",
       "      <td>St. Charles RX</td>\n",
       "      <td>2008-IDCTF-008902</td>\n",
       "      <td>2008-09-08 13:35:00</td>\n",
       "      <td>NaN</td>\n",
       "      <td>2019-08-28 15:23:43</td>\n",
       "      <td>GBCC</td>\n",
       "      <td>NaN</td>\n",
       "      <td>NaN</td>\n",
       "      <td>NaN</td>\n",
       "      <td>1.0</td>\n",
       "      <td>NaN</td>\n",
       "      <td>20.0</td>\n",
       "      <td>42.103889</td>\n",
       "      <td>-111.547778</td>\n",
       "      <td>42.096330</td>\n",
       "      <td>-111.426900</td>\n",
       "    </tr>\n",
       "    <tr>\n",
       "      <th>4</th>\n",
       "      <td>Mingus/Cherry Rx</td>\n",
       "      <td>2008-AZPNF-000975</td>\n",
       "      <td>2008-10-07 18:16:00</td>\n",
       "      <td>NaN</td>\n",
       "      <td>2019-09-19 21:08:46</td>\n",
       "      <td>SWCC</td>\n",
       "      <td>NaN</td>\n",
       "      <td>NaN</td>\n",
       "      <td>NaN</td>\n",
       "      <td>NaN</td>\n",
       "      <td>NaN</td>\n",
       "      <td>NaN</td>\n",
       "      <td>34.389999</td>\n",
       "      <td>-112.080002</td>\n",
       "      <td>34.598301</td>\n",
       "      <td>-112.072403</td>\n",
       "    </tr>\n",
       "  </tbody>\n",
       "</table>\n",
       "</div>"
      ],
      "text/plain": [
       "        IncidentName UniqueFireIdentifier FireDiscoveryDateTime  \\\n",
       "0           SCHWARTZ    2003-WYCMX-200237   2003-01-01 07:00:00   \n",
       "1            MENTONE    2004-CABDU-006784   2004-07-06 01:04:00   \n",
       "2  NIFC RAMP SUPPORT    2008-IDGBK-000002   2008-07-22 15:10:00   \n",
       "3     St. Charles RX    2008-IDCTF-008902   2008-09-08 13:35:00   \n",
       "4   Mingus/Cherry Rx    2008-AZPNF-000975   2008-10-07 18:16:00   \n",
       "\n",
       "   InitialResponseAcres CreatedOnDateTime_dt  GACC ContainmentDateTime  \\\n",
       "0                   NaN  2020-07-04 16:03:32  RMCC                 NaN   \n",
       "1                   NaN  2020-10-13 01:01:00  OSCC                 NaN   \n",
       "2                   NaN  2019-08-05 14:33:55  GBCC                 NaN   \n",
       "3                   NaN  2019-08-28 15:23:43  GBCC                 NaN   \n",
       "4                   NaN  2019-09-19 21:08:46  SWCC                 NaN   \n",
       "\n",
       "  ControlDateTime FireOutDateTime  DiscoveryAcres  FinalAcres  IncidentSize  \\\n",
       "0             NaN             NaN             NaN         NaN           NaN   \n",
       "1             NaN             NaN             NaN         NaN           NaN   \n",
       "2             NaN             NaN             NaN         NaN           NaN   \n",
       "3             NaN             NaN             1.0         NaN          20.0   \n",
       "4             NaN             NaN             NaN         NaN           NaN   \n",
       "\n",
       "   InitialLatitude  InitialLongitude   Latitude   Longitude  \n",
       "0              NaN               NaN  44.603333 -105.563056  \n",
       "1              NaN               NaN  34.733889 -117.076667  \n",
       "2              NaN               NaN  43.666667 -116.216667  \n",
       "3        42.103889       -111.547778  42.096330 -111.426900  \n",
       "4        34.389999       -112.080002  34.598301 -112.072403  "
      ]
     },
     "execution_count": 1,
     "metadata": {},
     "output_type": "execute_result"
    }
   ],
   "source": [
    "import pandas as pd\n",
    "import math\n",
    "\n",
    "fire_locations = pd.read_csv('../output/frontend_fire_data.csv')\n",
    "\n",
    "fire_locations.head()"
   ]
  },
  {
   "cell_type": "markdown",
   "metadata": {},
   "source": [
    "Let's take a look at which attributes are not well tracked (i.e. which ones have null values for lots of instances)"
   ]
  },
  {
   "cell_type": "code",
   "execution_count": 2,
   "metadata": {},
   "outputs": [
    {
     "name": "stdout",
     "output_type": "stream",
     "text": [
      "Total instances: 247739\n",
      "Missing values for each attribute:\n",
      "IncidentName: 43 (0.01%)\n",
      "UniqueFireIdentifier: 0 (0.0%)\n",
      "FireDiscoveryDateTime: 0 (0.0%)\n",
      "InitialResponseAcres: 161218 (65.07%)\n",
      "CreatedOnDateTime_dt: 0 (0.0%)\n",
      "GACC: 59 (0.02%)\n",
      "ContainmentDateTime: 97406 (39.31%)\n",
      "ControlDateTime: 111876 (45.15%)\n",
      "FireOutDateTime: 103396 (41.73%)\n",
      "DiscoveryAcres: 63894 (25.79%)\n",
      "FinalAcres: 229701 (92.71%)\n",
      "IncidentSize: 74327 (30.0%)\n",
      "InitialLatitude: 65977 (26.63%)\n",
      "InitialLongitude: 65977 (26.63%)\n",
      "Latitude: 0 (0.0%)\n",
      "Longitude: 0 (0.0%)\n"
     ]
    }
   ],
   "source": [
    "total_instances = fire_locations.shape[0]\n",
    "print(\"Total instances: \" + str(total_instances))\n",
    "missing_values = fire_locations.isnull().sum()\n",
    "print(\"Missing values for each attribute:\")\n",
    "for attribute, count in missing_values.items():\n",
    "    print(f\"{attribute}: {count} ({int(count/total_instances * 10000)/100}%)\")"
   ]
  },
  {
   "cell_type": "markdown",
   "metadata": {},
   "source": [
    "Remove instances with missing values for the attributes FireOutDateTime and IncidentSize because we need both for calculations"
   ]
  },
  {
   "cell_type": "code",
   "execution_count": 3,
   "metadata": {},
   "outputs": [
    {
     "name": "stdout",
     "output_type": "stream",
     "text": [
      "Total instances: 136993\n"
     ]
    }
   ],
   "source": [
    "fire_locations.dropna(subset=[\"FireOutDateTime\"], inplace=True)\n",
    "fire_locations.dropna(subset=[\"IncidentSize\"], inplace=True)\n",
    "\n",
    "print(\"Total instances: \" + str(fire_locations.shape[0]))"
   ]
  },
  {
   "cell_type": "markdown",
   "metadata": {},
   "source": [
    "\n",
    "Remove UniqueFireID _2014-IDNCF-000609_ and _2014-AKFAS-411093_ because they have dates in 1530.\n",
    "\n",
    "Then, find the difference between each fire's discovery date and time and it's FireOut date and time to get the total time burned. Display the first few rows to verify the calculation. Finaly, get the hours burned from the time burned so that we're working with a consistent time unit."
   ]
  },
  {
   "cell_type": "code",
   "execution_count": 4,
   "metadata": {},
   "outputs": [
    {
     "name": "stdout",
     "output_type": "stream",
     "text": [
      "   FireDiscoveryDateTime     FireOutDateTime      TimeBurned\n",
      "16   2009-07-06 20:00:00 2009-07-07 20:00:00 1 days 00:00:00\n",
      "74   2014-02-10 07:30:00 2014-02-10 22:30:48 0 days 15:00:48\n",
      "80   2014-03-13 21:06:10 2014-03-13 22:26:14 0 days 01:20:04\n",
      "81   2014-03-23 22:50:58 2014-03-28 22:00:03 4 days 23:09:05\n",
      "82   2014-03-25 20:38:54 2014-03-25 23:00:28 0 days 02:21:34\n"
     ]
    }
   ],
   "source": [
    "fire_locations.drop(fire_locations[fire_locations['UniqueFireIdentifier'] == '2014-AKFAS-411093'].index, inplace=True)\n",
    "fire_locations.drop(fire_locations[fire_locations['UniqueFireIdentifier'] == '2014-IDNCF-000609'].index, inplace=True)\n",
    "\n",
    "fire_locations['FireDiscoveryDateTime'] = pd.to_datetime(fire_locations['FireDiscoveryDateTime'])\n",
    "fire_locations['FireOutDateTime'] = pd.to_datetime(fire_locations['FireOutDateTime'])\n",
    "fire_locations['TimeBurned'] = fire_locations['FireOutDateTime'] - fire_locations['FireDiscoveryDateTime']\n",
    "\n",
    "print(fire_locations[['FireDiscoveryDateTime', 'FireOutDateTime', 'TimeBurned']].head())\n",
    "\n",
    "fire_locations['HoursBurned'] = fire_locations['TimeBurned'].dt.total_seconds() / (60*60)"
   ]
  },
  {
   "cell_type": "markdown",
   "metadata": {},
   "source": [
    "Now, let's get an idea of what we're working with using the range and average of both attributes we'll be working with for supression result. We want to get an idea of the distribution of our data."
   ]
  },
  {
   "cell_type": "code",
   "execution_count": 5,
   "metadata": {},
   "outputs": [
    {
     "name": "stdout",
     "output_type": "stream",
     "text": [
      "HoursBurned Range: 28090.043611111112\n",
      "HoursBurned Average: 296.50350427194445\n",
      "IncidentSize Range: 589368.0\n",
      "IncidentSize Average: 428.8481476254088\n"
     ]
    }
   ],
   "source": [
    "summary = fire_locations[['HoursBurned', 'IncidentSize']].describe()\n",
    "\n",
    "time_burned_range = summary.loc['max', 'HoursBurned'] - summary.loc['min', 'HoursBurned']\n",
    "acres_burned_range = summary.loc['max', 'IncidentSize'] - summary.loc['min', 'IncidentSize']\n",
    "average_time_burned = summary.loc['mean', 'HoursBurned']\n",
    "average_acres_burned = summary.loc['mean', 'IncidentSize']\n",
    "\n",
    "print(\"HoursBurned Range:\", time_burned_range)\n",
    "print(\"HoursBurned Average:\", average_time_burned)\n",
    "print(\"IncidentSize Range:\", acres_burned_range)\n",
    "print(\"IncidentSize Average:\", average_acres_burned)"
   ]
  },
  {
   "cell_type": "markdown",
   "metadata": {},
   "source": [
    "Quite the range there, and we know from Kole's graphs that especially for acres burned we have a ton of very small fires and not many large ones. With such a dramatic of a right (or positive) skew, we won't be able to fully normallize the data.\n",
    "\n",
    "![Acres Burned Distribution](./acres-distribution-chart.svg)\n",
    "\n",
    "We'll use a log to normalize as much as we can. We'll also need to transform our data (x + 1) to make sure we don't get negative values from the fires that burned for less than an acre or less than an hour.\n",
    "\n",
    "SupressionResult is calculated using the average of normalized time burned and normalized acreage burned. Acreage burned is given twice as much weight as time burned because we think it is a better indicator of how well a fire was supressed. This average is then converted to a percent.\n",
    "\n",
    "SuppressionResult = $\\left (1 - \\frac{\\displaystyle\\left(\\frac{\\log(x + 1)}{\\log(\\text{MaxHoursBurned} + 1)} + \\frac{2(\\log(y + 1))}{\\log(\\text{MaxAcresBurned} + 1)}\\right)}{\\bigg(3\\bigg)}\\right) \\times 100$\n",
    "\n",
    "Where $x = HoursBurned$ and $y = AcresBurned$ of a given fire"
   ]
  },
  {
   "cell_type": "code",
   "execution_count": 6,
   "metadata": {},
   "outputs": [
    {
     "name": "stdout",
     "output_type": "stream",
     "text": [
      "log time: 10.243206071815102 log acres: 13.286807752042323\n"
     ]
    }
   ],
   "source": [
    "log_time_range = math.log(time_burned_range+1)\n",
    "log_acres_range = math.log(acres_burned_range+1)\n",
    "print(\"log time: \" + str(log_time_range) + \" log acres: \" + str(log_acres_range))\n",
    "\n",
    "fire_locations[\"NormalizedTime\"] = fire_locations[\"HoursBurned\"].apply(lambda x: math.log(x+1)/log_time_range if x > 0 else 0)\n",
    "fire_locations[\"NormalizedAcreage\"] = fire_locations[\"IncidentSize\"].apply(lambda x: math.log(x+1)/log_acres_range if x > 0 else 0)\n",
    "fire_locations['SupressionResult'] = (1 - (fire_locations['NormalizedTime'] + (2 * fire_locations['NormalizedAcreage']))/3) * 100"
   ]
  },
  {
   "cell_type": "markdown",
   "metadata": {},
   "source": [
    "Finally, let's take a look how well our suppression result measures up against both the bigger fires and the rest of the data (mostly much smaller fires)."
   ]
  },
  {
   "cell_type": "code",
   "execution_count": 7,
   "metadata": {},
   "outputs": [
    {
     "name": "stdout",
     "output_type": "stream",
     "text": [
      "    FireDiscoveryDateTime  HoursBurned  IncidentSize  NormalizedTime  \\\n",
      "128   2014-04-19 23:30:00  2089.500000       73622.0        0.746364   \n",
      "134   2014-04-22 10:30:00  1450.500000        3828.0        0.710749   \n",
      "183   2014-05-04 20:30:00   140.500000        2657.0        0.483472   \n",
      "218   2014-05-11 20:59:00   412.016667        2202.0        0.588047   \n",
      "219   2014-05-11 21:02:00  5274.466667        5484.0        0.836732   \n",
      "\n",
      "     NormalizedAcreage  SupressionResult  \n",
      "128           0.843447         18.891433  \n",
      "134           0.620944         34.912109  \n",
      "183           0.593471         44.319574  \n",
      "218           0.579340         41.775782  \n",
      "219           0.647994         28.909317  \n",
      "   FireDiscoveryDateTime  HoursBurned  IncidentSize  NormalizedTime  \\\n",
      "16   2009-07-06 20:00:00    24.000000           0.1        0.314245   \n",
      "74   2014-02-10 07:30:00    15.013333           0.3        0.270757   \n",
      "80   2014-03-13 21:06:10     1.334444           3.0        0.082765   \n",
      "81   2014-03-23 22:50:58   119.151389           0.1        0.467505   \n",
      "82   2014-03-25 20:38:54     2.359444           1.5        0.118300   \n",
      "\n",
      "    NormalizedAcreage  SupressionResult  \n",
      "16           0.007173         89.046949  \n",
      "74           0.019746         89.658345  \n",
      "80           0.104336         90.285440  \n",
      "81           0.007173         83.938272  \n",
      "82           0.068962         91.459156  \n"
     ]
    }
   ],
   "source": [
    "filtered_fire_locations = fire_locations[fire_locations['IncidentSize'] > 500]\n",
    "print(filtered_fire_locations[['FireDiscoveryDateTime', 'HoursBurned', 'IncidentSize', 'NormalizedTime', 'NormalizedAcreage', 'SupressionResult']].head())\n",
    "\n",
    "print(fire_locations[['FireDiscoveryDateTime', 'HoursBurned', 'IncidentSize', 'NormalizedTime', 'NormalizedAcreage', 'SupressionResult']].head())"
   ]
  },
  {
   "cell_type": "code",
   "execution_count": 8,
   "metadata": {},
   "outputs": [],
   "source": [
    "fire_locations.to_csv('../output/suppression_stats.csv', index=False, columns=['UniqueFireIdentifier', 'HoursBurned', 'IncidentSize',\n",
    "                                                                               'NormalizedTime','NormalizedAcreage', 'SupressionResult'])"
   ]
  }
 ],
 "metadata": {
  "kernelspec": {
   "display_name": "Python 3",
   "language": "python",
   "name": "python3"
  },
  "language_info": {
   "codemirror_mode": {
    "name": "ipython",
    "version": 3
   },
   "file_extension": ".py",
   "mimetype": "text/x-python",
   "name": "python",
   "nbconvert_exporter": "python",
   "pygments_lexer": "ipython3",
   "version": "3.11.4"
  }
 },
 "nbformat": 4,
 "nbformat_minor": 2
}
