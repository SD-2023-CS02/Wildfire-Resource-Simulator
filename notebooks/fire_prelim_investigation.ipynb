{
 "cells": [
  {
   "cell_type": "code",
   "execution_count": 34,
   "metadata": {},
   "outputs": [
    {
     "data": {
      "text/html": [
       "<div>\n",
       "<style scoped>\n",
       "    .dataframe tbody tr th:only-of-type {\n",
       "        vertical-align: middle;\n",
       "    }\n",
       "\n",
       "    .dataframe tbody tr th {\n",
       "        vertical-align: top;\n",
       "    }\n",
       "\n",
       "    .dataframe thead th {\n",
       "        text-align: right;\n",
       "    }\n",
       "</style>\n",
       "<table border=\"1\" class=\"dataframe\">\n",
       "  <thead>\n",
       "    <tr style=\"text-align: right;\">\n",
       "      <th></th>\n",
       "      <th>IncidentName</th>\n",
       "      <th>UniqueFireIdentifier</th>\n",
       "      <th>FireDiscoveryDateTime</th>\n",
       "      <th>InitialResponseAcres</th>\n",
       "      <th>CreatedOnDateTime_dt</th>\n",
       "      <th>GACC</th>\n",
       "      <th>ContainmentDateTime</th>\n",
       "      <th>ControlDateTime</th>\n",
       "      <th>FireOutDateTime</th>\n",
       "      <th>DiscoveryAcres</th>\n",
       "      <th>FinalAcres</th>\n",
       "      <th>IncidentSize</th>\n",
       "      <th>InitialLatitude</th>\n",
       "      <th>InitialLongitude</th>\n",
       "      <th>Latitude</th>\n",
       "      <th>Longitude</th>\n",
       "    </tr>\n",
       "  </thead>\n",
       "  <tbody>\n",
       "    <tr>\n",
       "      <th>0</th>\n",
       "      <td>Grand Pager</td>\n",
       "      <td>2014-AKFAS-411093</td>\n",
       "      <td>1530/08/16</td>\n",
       "      <td>0.1</td>\n",
       "      <td>2014-05-21 04:09:45+00:00</td>\n",
       "      <td>AKCC</td>\n",
       "      <td>2014/05/12 05:17:21+00</td>\n",
       "      <td>2014/05/12 05:17:35+00</td>\n",
       "      <td>2014/05/13 01:53:46+00</td>\n",
       "      <td>0.1</td>\n",
       "      <td>0.1</td>\n",
       "      <td>0.1</td>\n",
       "      <td>64.802650</td>\n",
       "      <td>-147.744683</td>\n",
       "      <td>64.802702</td>\n",
       "      <td>-147.745026</td>\n",
       "    </tr>\n",
       "    <tr>\n",
       "      <th>1</th>\n",
       "      <td>Glenn Alps</td>\n",
       "      <td>2014-AKMSS-401077</td>\n",
       "      <td>2014/05/09 03:22:55+00</td>\n",
       "      <td>0.1</td>\n",
       "      <td>2014-05-21 04:10:05+00:00</td>\n",
       "      <td>AKCC</td>\n",
       "      <td>2014/05/09 07:09:00+00</td>\n",
       "      <td>2014/05/09 07:09:31+00</td>\n",
       "      <td>2014/05/10 20:27:38+00</td>\n",
       "      <td>0.1</td>\n",
       "      <td>0.7</td>\n",
       "      <td>0.7</td>\n",
       "      <td>61.102967</td>\n",
       "      <td>-149.662833</td>\n",
       "      <td>61.103002</td>\n",
       "      <td>-149.663023</td>\n",
       "    </tr>\n",
       "    <tr>\n",
       "      <th>2</th>\n",
       "      <td>Johnson Lake</td>\n",
       "      <td>2014-AKKKS-403067</td>\n",
       "      <td>2014/05/05 00:18:25+00</td>\n",
       "      <td>0.1</td>\n",
       "      <td>2014-05-21 04:10:06+00:00</td>\n",
       "      <td>AKCC</td>\n",
       "      <td>2014/05/05 00:28:35+00</td>\n",
       "      <td>2014/05/05 00:28:00+00</td>\n",
       "      <td>2014/05/05 00:33:26+00</td>\n",
       "      <td>0.1</td>\n",
       "      <td>0.1</td>\n",
       "      <td>0.1</td>\n",
       "      <td>60.295033</td>\n",
       "      <td>-151.262467</td>\n",
       "      <td>60.295001</td>\n",
       "      <td>-151.262022</td>\n",
       "    </tr>\n",
       "    <tr>\n",
       "      <th>3</th>\n",
       "      <td>Mile 9 Talkeetna Spur</td>\n",
       "      <td>2014-AKMSS-401137</td>\n",
       "      <td>2014/05/19 21:45:02+00</td>\n",
       "      <td>0.1</td>\n",
       "      <td>2014-05-21 04:10:07+00:00</td>\n",
       "      <td>AKCC</td>\n",
       "      <td>2014/05/19 22:02:00+00</td>\n",
       "      <td>2014/05/19 22:02:31+00</td>\n",
       "      <td>2014/05/25 20:02:25+00</td>\n",
       "      <td>0.1</td>\n",
       "      <td>0.1</td>\n",
       "      <td>0.1</td>\n",
       "      <td>62.422633</td>\n",
       "      <td>-150.081217</td>\n",
       "      <td>62.422602</td>\n",
       "      <td>-150.081024</td>\n",
       "    </tr>\n",
       "    <tr>\n",
       "      <th>4</th>\n",
       "      <td>Jim Lake</td>\n",
       "      <td>2014-AKMSS-401131</td>\n",
       "      <td>2014/05/19 00:01:00+00</td>\n",
       "      <td>0.1</td>\n",
       "      <td>2014-05-21 04:10:07+00:00</td>\n",
       "      <td>AKCC</td>\n",
       "      <td>2014/05/19 16:14:45+00</td>\n",
       "      <td>2014/05/19 16:14:49+00</td>\n",
       "      <td>2014/05/29 23:42:41+00</td>\n",
       "      <td>0.1</td>\n",
       "      <td>1.0</td>\n",
       "      <td>1.0</td>\n",
       "      <td>61.543767</td>\n",
       "      <td>-148.879433</td>\n",
       "      <td>61.543802</td>\n",
       "      <td>-148.879023</td>\n",
       "    </tr>\n",
       "  </tbody>\n",
       "</table>\n",
       "</div>"
      ],
      "text/plain": [
       "            IncidentName UniqueFireIdentifier   FireDiscoveryDateTime  \\\n",
       "0            Grand Pager    2014-AKFAS-411093              1530/08/16   \n",
       "1             Glenn Alps    2014-AKMSS-401077  2014/05/09 03:22:55+00   \n",
       "2           Johnson Lake    2014-AKKKS-403067  2014/05/05 00:18:25+00   \n",
       "3  Mile 9 Talkeetna Spur    2014-AKMSS-401137  2014/05/19 21:45:02+00   \n",
       "4               Jim Lake    2014-AKMSS-401131  2014/05/19 00:01:00+00   \n",
       "\n",
       "   InitialResponseAcres       CreatedOnDateTime_dt  GACC  \\\n",
       "0                   0.1  2014-05-21 04:09:45+00:00  AKCC   \n",
       "1                   0.1  2014-05-21 04:10:05+00:00  AKCC   \n",
       "2                   0.1  2014-05-21 04:10:06+00:00  AKCC   \n",
       "3                   0.1  2014-05-21 04:10:07+00:00  AKCC   \n",
       "4                   0.1  2014-05-21 04:10:07+00:00  AKCC   \n",
       "\n",
       "      ContainmentDateTime         ControlDateTime         FireOutDateTime  \\\n",
       "0  2014/05/12 05:17:21+00  2014/05/12 05:17:35+00  2014/05/13 01:53:46+00   \n",
       "1  2014/05/09 07:09:00+00  2014/05/09 07:09:31+00  2014/05/10 20:27:38+00   \n",
       "2  2014/05/05 00:28:35+00  2014/05/05 00:28:00+00  2014/05/05 00:33:26+00   \n",
       "3  2014/05/19 22:02:00+00  2014/05/19 22:02:31+00  2014/05/25 20:02:25+00   \n",
       "4  2014/05/19 16:14:45+00  2014/05/19 16:14:49+00  2014/05/29 23:42:41+00   \n",
       "\n",
       "   DiscoveryAcres  FinalAcres  IncidentSize  InitialLatitude  \\\n",
       "0             0.1         0.1           0.1        64.802650   \n",
       "1             0.1         0.7           0.7        61.102967   \n",
       "2             0.1         0.1           0.1        60.295033   \n",
       "3             0.1         0.1           0.1        62.422633   \n",
       "4             0.1         1.0           1.0        61.543767   \n",
       "\n",
       "   InitialLongitude   Latitude   Longitude  \n",
       "0       -147.744683  64.802702 -147.745026  \n",
       "1       -149.662833  61.103002 -149.663023  \n",
       "2       -151.262467  60.295001 -151.262022  \n",
       "3       -150.081217  62.422602 -150.081024  \n",
       "4       -148.879433  61.543802 -148.879023  "
      ]
     },
     "execution_count": 34,
     "metadata": {},
     "output_type": "execute_result"
    }
   ],
   "source": [
    "import pandas as pd\n",
    "import math\n",
    "\n",
    "fire_locations = pd.read_csv('../data/Wildland_Fire_Incident_Locations.csv')\n",
    "\n",
    "fire_locations.head()"
   ]
  },
  {
   "cell_type": "markdown",
   "metadata": {},
   "source": [
    "Let's take a look at which attributes are not well tracked (i.e. which ones have null values for lots of instances)"
   ]
  },
  {
   "cell_type": "code",
   "execution_count": 35,
   "metadata": {},
   "outputs": [
    {
     "name": "stdout",
     "output_type": "stream",
     "text": [
      "Total instances: 207301\n",
      "Missing values for each attribute:\n",
      "IncidentName: 40 (0.01%)\n",
      "UniqueFireIdentifier: 0 (0.0%)\n",
      "FireDiscoveryDateTime: 0 (0.0%)\n",
      "InitialResponseAcres: 133197 (64.25%)\n",
      "CreatedOnDateTime_dt: 0 (0.0%)\n",
      "GACC: 58 (0.02%)\n",
      "ContainmentDateTime: 81565 (39.34%)\n",
      "ControlDateTime: 92348 (44.54%)\n",
      "FireOutDateTime: 81482 (39.3%)\n",
      "DiscoveryAcres: 59460 (28.68%)\n",
      "FinalAcres: 195128 (94.12%)\n",
      "IncidentSize: 65217 (31.46%)\n",
      "InitialLatitude: 59051 (28.48%)\n",
      "InitialLongitude: 59051 (28.48%)\n",
      "Latitude: 0 (0.0%)\n",
      "Longitude: 0 (0.0%)\n"
     ]
    }
   ],
   "source": [
    "total_instances = fire_locations.shape[0]\n",
    "print(\"Total instances: \" + str(total_instances))\n",
    "missing_values = fire_locations.isnull().sum()\n",
    "print(\"Missing values for each attribute:\")\n",
    "for attribute, count in missing_values.items():\n",
    "    print(f\"{attribute}: {count} ({int(count/total_instances * 10000)/100}%)\")"
   ]
  },
  {
   "cell_type": "markdown",
   "metadata": {},
   "source": [
    "Remove instances with missing values for the attributes FireOutDateTime and IncidentSize because we need both for calculations"
   ]
  },
  {
   "cell_type": "code",
   "execution_count": 36,
   "metadata": {},
   "outputs": [
    {
     "name": "stdout",
     "output_type": "stream",
     "text": [
      "Total instances: 119225\n"
     ]
    }
   ],
   "source": [
    "fire_locations.dropna(subset=[\"FireOutDateTime\"], inplace=True)\n",
    "fire_locations.dropna(subset=[\"IncidentSize\"], inplace=True)\n",
    "\n",
    "print(\"Total instances: \" + str(fire_locations.shape[0]))"
   ]
  },
  {
   "cell_type": "markdown",
   "metadata": {},
   "source": [
    "\n",
    "Remove UniqueFireID _2014-IDNCF-000609_ and _2014-AKFAS-411093_ because they have dates in 1530.\n",
    "\n",
    "Then, find the difference between each fire's discovery date and time and it's FireOut date and time to get the total time burned. Display the first few rows to verify the calculation. Finaly, get the hours burned from the time burned so that we're working with a consistent time unit."
   ]
  },
  {
   "cell_type": "code",
   "execution_count": 37,
   "metadata": {},
   "outputs": [
    {
     "name": "stdout",
     "output_type": "stream",
     "text": [
      "  FireDiscoveryDateTime     FireOutDateTime       TimeBurned\n",
      "1   2014-05-09 03:22:55 2014-05-10 20:27:38  1 days 17:04:43\n",
      "2   2014-05-05 00:18:25 2014-05-05 00:33:26  0 days 00:15:01\n",
      "3   2014-05-19 21:45:02 2014-05-25 20:02:25  5 days 22:17:23\n",
      "4   2014-05-19 00:01:00 2014-05-29 23:42:41 10 days 23:41:41\n",
      "5   2014-05-17 01:37:14 2014-05-20 00:51:20  2 days 23:14:06\n"
     ]
    }
   ],
   "source": [
    "fire_locations.drop(fire_locations[fire_locations['UniqueFireIdentifier'] == '2014-AKFAS-411093'].index, inplace=True)\n",
    "fire_locations.drop(fire_locations[fire_locations['UniqueFireIdentifier'] == '2014-IDNCF-000609'].index, inplace=True)\n",
    "\n",
    "fire_locations['FireDiscoveryDateTime'] = pd.to_datetime(fire_locations['FireDiscoveryDateTime'], format='%Y/%m/%d %H:%M:%S+00')\n",
    "fire_locations['FireOutDateTime'] = pd.to_datetime(fire_locations['FireOutDateTime'], format='%Y/%m/%d %H:%M:%S+00')\n",
    "fire_locations['TimeBurned'] = fire_locations['FireOutDateTime'] - fire_locations['FireDiscoveryDateTime']\n",
    "\n",
    "print(fire_locations[['FireDiscoveryDateTime', 'FireOutDateTime', 'TimeBurned']].head())\n",
    "\n",
    "fire_locations['HoursBurned'] = fire_locations['TimeBurned'].dt.total_seconds() / (60*60)"
   ]
  },
  {
   "cell_type": "markdown",
   "metadata": {},
   "source": [
    "Now, let's get an idea of what we're working with using the range and average of both attributes we'll be working with for supression result. We want to get an idea of the distribution of our data."
   ]
  },
  {
   "cell_type": "code",
   "execution_count": 38,
   "metadata": {},
   "outputs": [
    {
     "name": "stdout",
     "output_type": "stream",
     "text": [
      "HoursBurned Range: 28090.043611111112\n",
      "HoursBurned Average: 295.28396181478774\n",
      "IncidentSize Range: 589368.0\n",
      "IncidentSize Average: 435.8770563314125\n"
     ]
    }
   ],
   "source": [
    "summary = fire_locations[['HoursBurned', 'IncidentSize']].describe()\n",
    "\n",
    "time_burned_range = summary.loc['max', 'HoursBurned'] - summary.loc['min', 'HoursBurned']\n",
    "acres_burned_range = summary.loc['max', 'IncidentSize'] - summary.loc['min', 'IncidentSize']\n",
    "average_time_burned = summary.loc['mean', 'HoursBurned']\n",
    "average_acres_burned = summary.loc['mean', 'IncidentSize']\n",
    "\n",
    "print(\"HoursBurned Range:\", time_burned_range)\n",
    "print(\"HoursBurned Average:\", average_time_burned)\n",
    "print(\"IncidentSize Range:\", acres_burned_range)\n",
    "print(\"IncidentSize Average:\", average_acres_burned)"
   ]
  },
  {
   "cell_type": "markdown",
   "metadata": {},
   "source": [
    "Quite the range there, and we know from Kole's graphs that especially for acres burned we have a ton of very small fires and not many large ones. With such a dramatic of a right (or positive) skew, we won't be able to fully normallize the data.\n",
    "\n",
    "![Acres Burned Distribution](./acres-distribution-chart.svg)\n",
    "\n",
    "We'll use a log to normalize as much as we can. We'll also need to transform our data (x + 1) to make sure we don't get negative values from the fires that burned for less than an acre or less than an hour.\n",
    "\n",
    "SupressionResult is calculated using the average of normalized time burned and normalized acreage burned. Acreage burned is given twice as much weight as time burned because we think it is a better indicator of how well a fire was supressed. This average is then converted to a percent.\n",
    "\n",
    "SuppressionResult = $\\left (1 - \\frac{\\displaystyle\\left(\\frac{\\log(x + 1)}{\\log(\\text{MaxHoursBurned} + 1)} + \\frac{2(\\log(y + 1))}{\\log(\\text{MaxAcresBurned} + 1)}\\right)}{\\bigg(3\\bigg)}\\right) \\times 100$\n",
    "\n",
    "Where $x = HoursBurned$ and $y = AcresBurned$ of a given fire"
   ]
  },
  {
   "cell_type": "code",
   "execution_count": 39,
   "metadata": {},
   "outputs": [
    {
     "name": "stdout",
     "output_type": "stream",
     "text": [
      "log time: 10.243206071815102 log acres: 13.286807752042323\n"
     ]
    }
   ],
   "source": [
    "log_time_range = math.log(time_burned_range+1)\n",
    "log_acres_range = math.log(acres_burned_range+1)\n",
    "print(\"log time: \" + str(log_time_range) + \" log acres: \" + str(log_acres_range))\n",
    "\n",
    "fire_locations[\"NormalizedTime\"] = fire_locations[\"HoursBurned\"].apply(lambda x: math.log(x+1)/log_time_range if x > 0 else 0)\n",
    "fire_locations[\"NormalizedAcreage\"] = fire_locations[\"IncidentSize\"].apply(lambda x: math.log(x+1)/log_acres_range if x > 0 else 0)\n",
    "fire_locations['SupressionResult'] = (1 - (fire_locations['NormalizedTime'] + (2 * fire_locations['NormalizedAcreage']))/3) * 100"
   ]
  },
  {
   "cell_type": "markdown",
   "metadata": {},
   "source": [
    "Finally, let's take a look how well our suppression result measures up against both the bigger fires and the rest of the data (mostly much smaller fires)."
   ]
  },
  {
   "cell_type": "code",
   "execution_count": 40,
   "metadata": {},
   "outputs": [
    {
     "name": "stdout",
     "output_type": "stream",
     "text": [
      "    FireDiscoveryDateTime  HoursBurned  IncidentSize  NormalizedTime  \\\n",
      "11    2014-05-19 22:46:36  1104.806944        1906.0        0.684193   \n",
      "17    2014-05-20 00:03:50  4866.938889      196610.0        0.828884   \n",
      "132   2014-05-11 21:02:00  5274.466667        5484.0        0.836732   \n",
      "143   2014-04-19 23:30:00  2089.500000       73622.0        0.746364   \n",
      "145   2014-05-17 21:00:00  1420.000000        1482.0        0.708676   \n",
      "\n",
      "     NormalizedAcreage  SupressionResult  \n",
      "11            0.568480         39.294887  \n",
      "17            0.917375         11.212226  \n",
      "132           0.647994         28.909317  \n",
      "143           0.843447         18.891433  \n",
      "145           0.549554         39.740507  \n",
      "  FireDiscoveryDateTime  HoursBurned  IncidentSize  NormalizedTime  \\\n",
      "1   2014-05-09 03:22:55    41.078611           0.7        0.365075   \n",
      "2   2014-05-05 00:18:25     0.250278           0.1        0.021806   \n",
      "3   2014-05-19 21:45:02   142.289722           0.1        0.484699   \n",
      "4   2014-05-19 00:01:00   263.694722           1.0        0.544612   \n",
      "5   2014-05-17 01:37:14    71.235000           0.1        0.417831   \n",
      "\n",
      "   NormalizedAcreage  SupressionResult  \n",
      "1           0.039936         85.168398  \n",
      "2           0.007173         98.794906  \n",
      "3           0.007173         83.365157  \n",
      "4           0.052168         78.368381  \n",
      "5           0.007173         85.594095  \n"
     ]
    }
   ],
   "source": [
    "filtered_fire_locations = fire_locations[fire_locations['IncidentSize'] > 500]\n",
    "print(filtered_fire_locations[['FireDiscoveryDateTime', 'HoursBurned', 'IncidentSize', 'NormalizedTime', 'NormalizedAcreage', 'SupressionResult']].head())\n",
    "\n",
    "print(fire_locations[['FireDiscoveryDateTime', 'HoursBurned', 'IncidentSize', 'NormalizedTime', 'NormalizedAcreage', 'SupressionResult']].head())"
   ]
  }
 ],
 "metadata": {
  "kernelspec": {
   "display_name": "Python 3",
   "language": "python",
   "name": "python3"
  },
  "language_info": {
   "codemirror_mode": {
    "name": "ipython",
    "version": 3
   },
   "file_extension": ".py",
   "mimetype": "text/x-python",
   "name": "python",
   "nbconvert_exporter": "python",
   "pygments_lexer": "ipython3",
   "version": "3.12.0"
  }
 },
 "nbformat": 4,
 "nbformat_minor": 2
}
