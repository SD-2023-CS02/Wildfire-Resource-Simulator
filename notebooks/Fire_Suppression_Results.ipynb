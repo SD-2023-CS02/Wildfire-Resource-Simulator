{
 "cells": [
  {
   "cell_type": "code",
   "execution_count": 1,
   "metadata": {},
   "outputs": [
    {
     "data": {
      "text/html": [
       "<div>\n",
       "<style scoped>\n",
       "    .dataframe tbody tr th:only-of-type {\n",
       "        vertical-align: middle;\n",
       "    }\n",
       "\n",
       "    .dataframe tbody tr th {\n",
       "        vertical-align: top;\n",
       "    }\n",
       "\n",
       "    .dataframe thead th {\n",
       "        text-align: right;\n",
       "    }\n",
       "</style>\n",
       "<table border=\"1\" class=\"dataframe\">\n",
       "  <thead>\n",
       "    <tr style=\"text-align: right;\">\n",
       "      <th></th>\n",
       "      <th>UniqueFireIdentifier</th>\n",
       "      <th>IncidentName</th>\n",
       "      <th>CreatedOnDateTime_dt</th>\n",
       "      <th>FireDiscoveryDateTime</th>\n",
       "      <th>Latitude</th>\n",
       "      <th>Longitude</th>\n",
       "      <th>InitialLatitude</th>\n",
       "      <th>InitialLongitude</th>\n",
       "      <th>GACC</th>\n",
       "      <th>ContainmentDateTime</th>\n",
       "      <th>FireOutDateTime</th>\n",
       "      <th>ControlDateTime</th>\n",
       "      <th>DiscoveryAcres</th>\n",
       "      <th>IncidentSize</th>\n",
       "      <th>FinalAcres</th>\n",
       "      <th>InitialResponseAcres</th>\n",
       "    </tr>\n",
       "  </thead>\n",
       "  <tbody>\n",
       "    <tr>\n",
       "      <th>0</th>\n",
       "      <td>2003-WYCMX-200237</td>\n",
       "      <td>SCHWARTZ</td>\n",
       "      <td>2020-07-04 16:03:33</td>\n",
       "      <td>2003-01-01 07:00:00</td>\n",
       "      <td>44.6033399940001</td>\n",
       "      <td>-105.5630669220000</td>\n",
       "      <td>None</td>\n",
       "      <td>None</td>\n",
       "      <td>RMCC</td>\n",
       "      <td>None</td>\n",
       "      <td>None</td>\n",
       "      <td>None</td>\n",
       "      <td>NaN</td>\n",
       "      <td>NaN</td>\n",
       "      <td>NaN</td>\n",
       "      <td>NaN</td>\n",
       "    </tr>\n",
       "    <tr>\n",
       "      <th>1</th>\n",
       "      <td>2004-CABDU-006784</td>\n",
       "      <td>MENTONE</td>\n",
       "      <td>2020-10-13 01:01:01</td>\n",
       "      <td>2004-07-06 01:04:00</td>\n",
       "      <td>34.7338938890001</td>\n",
       "      <td>-117.0766787120000</td>\n",
       "      <td>None</td>\n",
       "      <td>None</td>\n",
       "      <td>OSCC</td>\n",
       "      <td>None</td>\n",
       "      <td>None</td>\n",
       "      <td>None</td>\n",
       "      <td>NaN</td>\n",
       "      <td>NaN</td>\n",
       "      <td>NaN</td>\n",
       "      <td>NaN</td>\n",
       "    </tr>\n",
       "    <tr>\n",
       "      <th>2</th>\n",
       "      <td>2008-AZPNF-000975</td>\n",
       "      <td>Mingus/Cherry Rx</td>\n",
       "      <td>2019-09-19 21:08:47</td>\n",
       "      <td>2008-10-07 18:16:00</td>\n",
       "      <td>34.5983062720001</td>\n",
       "      <td>-112.0724141090000</td>\n",
       "      <td>34.3899990000000</td>\n",
       "      <td>-112.0800020000000</td>\n",
       "      <td>SWCC</td>\n",
       "      <td>None</td>\n",
       "      <td>None</td>\n",
       "      <td>None</td>\n",
       "      <td>NaN</td>\n",
       "      <td>NaN</td>\n",
       "      <td>NaN</td>\n",
       "      <td>NaN</td>\n",
       "    </tr>\n",
       "    <tr>\n",
       "      <th>3</th>\n",
       "      <td>2008-IDCTF-008902</td>\n",
       "      <td>St. Charles RX</td>\n",
       "      <td>2019-08-28 15:23:44</td>\n",
       "      <td>2008-09-08 13:35:00</td>\n",
       "      <td>42.0963362210001</td>\n",
       "      <td>-111.4269118300000</td>\n",
       "      <td>42.1038890000000</td>\n",
       "      <td>-111.5477780000000</td>\n",
       "      <td>GBCC</td>\n",
       "      <td>None</td>\n",
       "      <td>None</td>\n",
       "      <td>None</td>\n",
       "      <td>1.0</td>\n",
       "      <td>20.0</td>\n",
       "      <td>NaN</td>\n",
       "      <td>NaN</td>\n",
       "    </tr>\n",
       "    <tr>\n",
       "      <th>4</th>\n",
       "      <td>2008-IDGBK-000002</td>\n",
       "      <td>NIFC RAMP SUPPORT</td>\n",
       "      <td>2019-08-05 14:33:55</td>\n",
       "      <td>2008-07-22 15:10:00</td>\n",
       "      <td>43.6666726250000</td>\n",
       "      <td>-116.2166796910000</td>\n",
       "      <td>None</td>\n",
       "      <td>None</td>\n",
       "      <td>GBCC</td>\n",
       "      <td>None</td>\n",
       "      <td>None</td>\n",
       "      <td>None</td>\n",
       "      <td>NaN</td>\n",
       "      <td>NaN</td>\n",
       "      <td>NaN</td>\n",
       "      <td>NaN</td>\n",
       "    </tr>\n",
       "  </tbody>\n",
       "</table>\n",
       "</div>"
      ],
      "text/plain": [
       "  UniqueFireIdentifier       IncidentName CreatedOnDateTime_dt  \\\n",
       "0    2003-WYCMX-200237           SCHWARTZ  2020-07-04 16:03:33   \n",
       "1    2004-CABDU-006784            MENTONE  2020-10-13 01:01:01   \n",
       "2    2008-AZPNF-000975   Mingus/Cherry Rx  2019-09-19 21:08:47   \n",
       "3    2008-IDCTF-008902     St. Charles RX  2019-08-28 15:23:44   \n",
       "4    2008-IDGBK-000002  NIFC RAMP SUPPORT  2019-08-05 14:33:55   \n",
       "\n",
       "  FireDiscoveryDateTime          Latitude           Longitude  \\\n",
       "0   2003-01-01 07:00:00  44.6033399940001  -105.5630669220000   \n",
       "1   2004-07-06 01:04:00  34.7338938890001  -117.0766787120000   \n",
       "2   2008-10-07 18:16:00  34.5983062720001  -112.0724141090000   \n",
       "3   2008-09-08 13:35:00  42.0963362210001  -111.4269118300000   \n",
       "4   2008-07-22 15:10:00  43.6666726250000  -116.2166796910000   \n",
       "\n",
       "    InitialLatitude    InitialLongitude  GACC ContainmentDateTime  \\\n",
       "0              None                None  RMCC                None   \n",
       "1              None                None  OSCC                None   \n",
       "2  34.3899990000000  -112.0800020000000  SWCC                None   \n",
       "3  42.1038890000000  -111.5477780000000  GBCC                None   \n",
       "4              None                None  GBCC                None   \n",
       "\n",
       "  FireOutDateTime ControlDateTime  DiscoveryAcres  IncidentSize  FinalAcres  \\\n",
       "0            None            None             NaN           NaN         NaN   \n",
       "1            None            None             NaN           NaN         NaN   \n",
       "2            None            None             NaN           NaN         NaN   \n",
       "3            None            None             1.0          20.0         NaN   \n",
       "4            None            None             NaN           NaN         NaN   \n",
       "\n",
       "   InitialResponseAcres  \n",
       "0                   NaN  \n",
       "1                   NaN  \n",
       "2                   NaN  \n",
       "3                   NaN  \n",
       "4                   NaN  "
      ]
     },
     "execution_count": 1,
     "metadata": {},
     "output_type": "execute_result"
    }
   ],
   "source": [
    "from configparser import ConfigParser\n",
    "import mysql.connector as mysql\n",
    "import pandas as pd\n",
    "import math\n",
    "\n",
    "\n",
    "FIRE_COLS = ['UniqueFireIdentifier', 'IncidentName', 'CreatedOnDateTime_dt', 'FireDiscoveryDateTime',\n",
    "             'Latitude', 'Longitude', 'InitialLatitude', 'InitialLongitude', 'GACC', 'ContainmentDateTime',\n",
    "             'FireOutDateTime', 'ControlDateTime', 'DiscoveryAcres', 'IncidentSize', 'FinalAcres', 'InitialResponseAcres']\n",
    "\n",
    "\n",
    "config = ConfigParser()\n",
    "config.read('../config.ini')\n",
    "\n",
    "db = mysql.connect(\n",
    "    user=config['db']['user'],\n",
    "    password=config['db']['password'],\n",
    "    database=config['db']['database'],\n",
    "    host=config['db']['host']\n",
    ")\n",
    "cursor = db.cursor()\n",
    "\n",
    "cursor.execute('SELECT * FROM FirePoint')\n",
    "fires = cursor.fetchall()\n",
    "db.close()\n",
    "\n",
    "fire_locations = pd.DataFrame(fires, columns=FIRE_COLS)\n",
    "\n",
    "fire_locations.head()"
   ]
  },
  {
   "cell_type": "markdown",
   "metadata": {},
   "source": [
    "Let's take a look at which attributes are not well tracked (i.e. which ones have null values for lots of instances)"
   ]
  },
  {
   "cell_type": "code",
   "execution_count": 2,
   "metadata": {},
   "outputs": [
    {
     "name": "stdout",
     "output_type": "stream",
     "text": [
      "Total instances: 247742\n",
      "Missing values for each attribute:\n",
      "UniqueFireIdentifier: 0 (0.0%)\n",
      "IncidentName: 0 (0.0%)\n",
      "CreatedOnDateTime_dt: 0 (0.0%)\n",
      "FireDiscoveryDateTime: 0 (0.0%)\n",
      "Latitude: 0 (0.0%)\n",
      "Longitude: 0 (0.0%)\n",
      "InitialLatitude: 65980 (26.63%)\n",
      "InitialLongitude: 65982 (26.63%)\n",
      "GACC: 59 (0.02%)\n",
      "ContainmentDateTime: 97409 (39.31%)\n",
      "FireOutDateTime: 103400 (41.73%)\n",
      "ControlDateTime: 111877 (45.15%)\n",
      "DiscoveryAcres: 63894 (25.79%)\n",
      "IncidentSize: 74333 (30.0%)\n",
      "FinalAcres: 229703 (92.71%)\n",
      "InitialResponseAcres: 161222 (65.07%)\n"
     ]
    }
   ],
   "source": [
    "total_instances = fire_locations.shape[0]\n",
    "print(\"Total instances: \" + str(total_instances))\n",
    "missing_values = fire_locations.isnull().sum()\n",
    "print(\"Missing values for each attribute:\")\n",
    "for attribute, count in missing_values.items():\n",
    "    print(f\"{attribute}: {count} ({int(count/total_instances * 10000)/100}%)\")"
   ]
  },
  {
   "cell_type": "markdown",
   "metadata": {},
   "source": [
    "Remove instances with missing values for the attributes FireOutDateTime and IncidentSize because we need both for calculations"
   ]
  },
  {
   "cell_type": "code",
   "execution_count": 3,
   "metadata": {},
   "outputs": [
    {
     "name": "stdout",
     "output_type": "stream",
     "text": [
      "Total instances: 136992\n"
     ]
    }
   ],
   "source": [
    "fire_locations.dropna(subset=[\"FireOutDateTime\"], inplace=True)\n",
    "fire_locations.dropna(subset=[\"IncidentSize\"], inplace=True)\n",
    "\n",
    "print(\"Total instances: \" + str(fire_locations.shape[0]))"
   ]
  },
  {
   "cell_type": "markdown",
   "metadata": {},
   "source": [
    "\n",
    "Remove UniqueFireID _2014-IDNCF-000609_ and _2014-AKFAS-411093_ because they have dates in 1530.\n",
    "\n",
    "Then, find the difference between each fire's discovery date and time and it's FireOut date and time to get the total time burned. Display the first few rows to verify the calculation. Finaly, get the hours burned from the time burned so that we're working with a consistent time unit."
   ]
  },
  {
   "cell_type": "code",
   "execution_count": 4,
   "metadata": {},
   "outputs": [
    {
     "name": "stdout",
     "output_type": "stream",
     "text": [
      "   FireDiscoveryDateTime     FireOutDateTime      TimeBurned\n",
      "21   2009-07-06 20:00:00 2009-07-07 20:00:00 1 days 00:00:00\n",
      "75   2014-05-13 21:31:58 2014-05-17 02:00:00 3 days 04:28:02\n",
      "76   2014-05-25 22:20:45 2014-05-27 03:00:00 1 days 04:39:15\n",
      "77   2014-05-29 02:06:19 2014-05-29 07:07:00 0 days 05:00:41\n",
      "78   2014-06-04 00:18:20 2014-06-04 02:23:00 0 days 02:04:40\n"
     ]
    }
   ],
   "source": [
    "fire_locations.drop(fire_locations[fire_locations['UniqueFireIdentifier'] == '2014-AKFAS-411093'].index, inplace=True)\n",
    "fire_locations.drop(fire_locations[fire_locations['UniqueFireIdentifier'] == '2014-IDNCF-000609'].index, inplace=True)\n",
    "\n",
    "fire_locations['FireDiscoveryDateTime'] = pd.to_datetime(fire_locations['FireDiscoveryDateTime'])\n",
    "fire_locations['FireOutDateTime'] = pd.to_datetime(fire_locations['FireOutDateTime'])\n",
    "fire_locations['TimeBurned'] = fire_locations['FireOutDateTime'] - fire_locations['FireDiscoveryDateTime']\n",
    "\n",
    "print(fire_locations[['FireDiscoveryDateTime', 'FireOutDateTime', 'TimeBurned']].head())\n",
    "\n",
    "fire_locations['HoursBurned'] = fire_locations['TimeBurned'].dt.total_seconds() / (60*60)"
   ]
  },
  {
   "cell_type": "markdown",
   "metadata": {},
   "source": [
    "Now, let's get an idea of what we're working with using the range and average of both attributes we'll be working with for suppression result. We want to get an idea of the distribution of our data."
   ]
  },
  {
   "cell_type": "code",
   "execution_count": 5,
   "metadata": {},
   "outputs": [
    {
     "name": "stdout",
     "output_type": "stream",
     "text": [
      "HoursBurned Range: 28090.043611111112\n",
      "HoursBurned Average: 296.85857245662703\n",
      "IncidentSize Range: 589368.0\n",
      "IncidentSize Average: 428.08532922111095\n"
     ]
    }
   ],
   "source": [
    "summary = fire_locations[['HoursBurned', 'IncidentSize']].describe()\n",
    "\n",
    "time_burned_range = summary.loc['max', 'HoursBurned'] - summary.loc['min', 'HoursBurned']\n",
    "acres_burned_range = summary.loc['max', 'IncidentSize'] - summary.loc['min', 'IncidentSize']\n",
    "average_time_burned = summary.loc['mean', 'HoursBurned']\n",
    "average_acres_burned = summary.loc['mean', 'IncidentSize']\n",
    "\n",
    "print(\"HoursBurned Range:\", time_burned_range)\n",
    "print(\"HoursBurned Average:\", average_time_burned)\n",
    "print(\"IncidentSize Range:\", acres_burned_range)\n",
    "print(\"IncidentSize Average:\", average_acres_burned)"
   ]
  },
  {
   "cell_type": "markdown",
   "metadata": {},
   "source": [
    "Quite the range there, and we know from Kole's graphs that especially for acres burned we have a ton of very small fires and not many large ones. With such a dramatic of a right (or positive) skew, we won't be able to fully normallize the data.\n",
    "\n",
    "![Acres Burned Distribution](./acres-distribution-chart.svg)\n",
    "\n",
    "We'll use a log to normalize as much as we can. We'll also need to transform our data (x + 1) to make sure we don't get negative values from the fires that burned for less than an acre or less than an hour.\n",
    "\n",
    "SuppressionResult is calculated using the average of normalized time burned and normalized acreage burned. Acreage burned is given twice as much weight as time burned because we think it is a better indicator of how well a fire was supressed. This average is then converted to a percent.\n",
    "\n",
    "SuppressionResult = $\\left (1 - \\frac{\\displaystyle\\left(\\frac{\\log(x + 1)}{\\log(\\text{MaxHoursBurned} + 1)} + \\frac{2(\\log(y + 1))}{\\log(\\text{MaxAcresBurned} + 1)}\\right)}{\\bigg(3\\bigg)}\\right) \\times 100$\n",
    "\n",
    "Where $x = HoursBurned$ and $y = AcresBurned$ of a given fire"
   ]
  },
  {
   "cell_type": "code",
   "execution_count": 6,
   "metadata": {},
   "outputs": [
    {
     "name": "stdout",
     "output_type": "stream",
     "text": [
      "log time: 10.243206071815102 log acres: 13.286807752042323\n"
     ]
    }
   ],
   "source": [
    "log_time_range = math.log(time_burned_range+1)\n",
    "log_acres_range = math.log(acres_burned_range+1)\n",
    "print(\"log time: \" + str(log_time_range) + \" log acres: \" + str(log_acres_range))\n",
    "\n",
    "fire_locations[\"NormalizedTime\"] = fire_locations[\"HoursBurned\"].apply(lambda x: math.log(x+1)/log_time_range if x > 0 else 0)\n",
    "fire_locations[\"NormalizedAcreage\"] = fire_locations[\"IncidentSize\"].apply(lambda x: math.log(x+1)/log_acres_range if x > 0 else 0)\n",
    "fire_locations['SuppressionResult'] = (1 - (fire_locations['NormalizedTime'] + (2 * fire_locations['NormalizedAcreage']))/3) * 100"
   ]
  },
  {
   "cell_type": "markdown",
   "metadata": {},
   "source": [
    "Finally, let's take a look how well our suppression result measures up against both the bigger fires and the rest of the data (mostly much smaller fires)."
   ]
  },
  {
   "cell_type": "code",
   "execution_count": 7,
   "metadata": {},
   "outputs": [
    {
     "name": "stdout",
     "output_type": "stream",
     "text": [
      "    FireDiscoveryDateTime  HoursBurned  IncidentSize  NormalizedTime  \\\n",
      "170   2014-07-08 01:29:00   510.516667        1000.0        0.608929   \n",
      "187   2014-08-12 19:22:00   716.633333        2632.0        0.641982   \n",
      "189   2014-08-13 05:57:00   162.183333        1200.0        0.497391   \n",
      "190   2014-08-13 06:20:00   538.666667         560.0        0.614158   \n",
      "241   2014-05-20 00:03:50  4866.936111      196610.0        0.828884   \n",
      "\n",
      "     NormalizedAcreage  SuppressionResult  \n",
      "170           0.519971          45.037649  \n",
      "187           0.592759          39.083296  \n",
      "189           0.533680          47.841616  \n",
      "190           0.476391          47.768625  \n",
      "241           0.917375          11.212228  \n",
      "   FireDiscoveryDateTime  HoursBurned  IncidentSize  NormalizedTime  \\\n",
      "21   2009-07-06 20:00:00    24.000000           0.1        0.314245   \n",
      "75   2014-05-13 21:31:58    76.467222           0.1        0.424658   \n",
      "76   2014-05-25 22:20:45    28.654167           0.1        0.330912   \n",
      "77   2014-05-29 02:06:19     5.011389           3.0        0.175107   \n",
      "78   2014-06-04 00:18:20     2.077778           0.1        0.109752   \n",
      "\n",
      "    NormalizedAcreage  SuppressionResult  \n",
      "21           0.007173          89.046949  \n",
      "75           0.007173          85.366528  \n",
      "76           0.007173          88.491371  \n",
      "77           0.104336          87.207361  \n",
      "78           0.007173          95.863395  \n"
     ]
    }
   ],
   "source": [
    "filtered_fire_locations = fire_locations[fire_locations['IncidentSize'] > 500]\n",
    "print(filtered_fire_locations[['FireDiscoveryDateTime', 'HoursBurned', 'IncidentSize',\n",
    "                               'NormalizedTime', 'NormalizedAcreage', 'SuppressionResult']].head())\n",
    "\n",
    "print(fire_locations[['FireDiscoveryDateTime', 'HoursBurned', 'IncidentSize',\n",
    "                      'NormalizedTime', 'NormalizedAcreage', 'SuppressionResult']].head())"
   ]
  },
  {
   "cell_type": "code",
   "execution_count": 8,
   "metadata": {},
   "outputs": [],
   "source": [
    "fire_locations.to_csv('../output/suppression_stats.csv', index=False,\n",
    "                      columns=['UniqueFireIdentifier', 'FireDiscoveryDateTime', 'HoursBurned',\n",
    "                               'IncidentSize', 'NormalizedTime', 'NormalizedAcreage', 'SuppressionResult'])\n",
    "\n",
    "filtered_fire_locations.to_csv('../output/suppression_stats_filt.csv', index=False,\n",
    "                               columns=['UniqueFireIdentifier', 'FireDiscoveryDateTime', 'HoursBurned',\n",
    "                                        'IncidentSize', 'NormalizedTime', 'NormalizedAcreage', 'SuppressionResult'])"
   ]
  }
 ],
 "metadata": {
  "kernelspec": {
   "display_name": "Python 3",
   "language": "python",
   "name": "python3"
  },
  "language_info": {
   "codemirror_mode": {
    "name": "ipython",
    "version": 3
   },
   "file_extension": ".py",
   "mimetype": "text/x-python",
   "name": "python",
   "nbconvert_exporter": "python",
   "pygments_lexer": "ipython3",
   "version": "3.11.4"
  }
 },
 "nbformat": 4,
 "nbformat_minor": 2
}
